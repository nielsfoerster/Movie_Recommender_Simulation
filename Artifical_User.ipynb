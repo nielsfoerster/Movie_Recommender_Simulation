{
 "cells": [
  {
   "cell_type": "code",
   "execution_count": 1,
   "id": "658e86e9-4a79-425d-8e6a-f264f28effcb",
   "metadata": {},
   "outputs": [],
   "source": [
    "import numpy as np\n",
    "import pandas as pd\n",
    "import random as random\n",
    "from matplotlib import pyplot as plt\n",
    "%matplotlib inline"
   ]
  },
  {
   "cell_type": "code",
   "execution_count": null,
   "id": "7f3d4015-b1d7-4e33-800e-f00d7a937986",
   "metadata": {},
   "outputs": [],
   "source": []
  },
  {
   "cell_type": "code",
   "execution_count": 68,
   "id": "969d4c9b-0fe3-4074-906f-fadb929f1546",
   "metadata": {},
   "outputs": [],
   "source": [
    "n=100 # number of users\n",
    "m=10 # number of movies\n",
    "list_of_users=list(range(0,n))\n",
    "list_of_movies=list(range(0,m))\n",
    "list_of_timestamps=list(range(0,n*m))\n",
    "matrix_of_ratings=np.reshape(list(0 for i in range(0, n*m)),(m,n)) # matrix of ratings with all '0' entries\n",
    "set_of_ratings=np.linspace(0.5,5,10)"
   ]
  },
  {
   "cell_type": "code",
   "execution_count": 3,
   "id": "f601e496-9d58-4044-b3dc-b7908e793b0c",
   "metadata": {},
   "outputs": [
    {
     "data": {
      "text/plain": [
       "array([0.5, 1. , 1.5, 2. , 2.5, 3. , 3.5, 4. , 4.5, 5. ])"
      ]
     },
     "execution_count": 3,
     "metadata": {},
     "output_type": "execute_result"
    }
   ],
   "source": [
    "set_of_ratings"
   ]
  },
  {
   "cell_type": "code",
   "execution_count": 4,
   "id": "a7b4ba71-14d1-4365-bd15-6788aea50864",
   "metadata": {},
   "outputs": [],
   "source": [
    "s=np.random.normal(0,1,size=100) #create 100 random numbers from SND\n",
    "ratings=pd.cut(s,10,labels=set_of_ratings) # bin into 10 bins and return labels \n",
    "ratings=pd.Series(ratings) # create pd.Series out of returned object\n",
    "\n",
    "#one-liner:\n",
    "#ratings=pd.Series(pd.cut(np.random.normal(0,1,size=100),10,labels=set_of_ratings))"
   ]
  },
  {
   "cell_type": "code",
   "execution_count": 5,
   "id": "d5bead53-27e6-48e0-8c32-368d4eb70eff",
   "metadata": {},
   "outputs": [],
   "source": [
    "# plt.hist(ratings,bins=10)\n",
    "# plt.show()\n",
    "# plt.close()\n",
    "# plt.hist(s,bins=20)"
   ]
  },
  {
   "cell_type": "code",
   "execution_count": 6,
   "id": "c4396209-68d4-4908-84c5-c0b18d53ad3b",
   "metadata": {},
   "outputs": [
    {
     "data": {
      "text/plain": [
       "numpy.ndarray"
      ]
     },
     "execution_count": 6,
     "metadata": {},
     "output_type": "execute_result"
    }
   ],
   "source": [
    "type(np.array(pd.cut(np.random.uniform(0,1,size=n),10,labels=set_of_ratings)))"
   ]
  },
  {
   "cell_type": "code",
   "execution_count": 7,
   "id": "1a0070fc-0365-4365-addc-4dac67750cfd",
   "metadata": {},
   "outputs": [
    {
     "data": {
      "text/plain": [
       "array([nan, 1. , 3. , 5. , 2. , 5. , 1. , 3.5, 2.5, 0.5, 0.5, 0.5, 2.5,\n",
       "       4.5, 4. , 0.5, 1.5, 1. , 3.5, 3.5, 4.5, 1.5, 1.5, 1. , 3.5, 5. ,\n",
       "       0.5, 1. , 2.5, 4.5, 4. , 1.5, 4.5, 5. , 3.5, 3. , 1.5, 3.5, 0.5,\n",
       "       0.5, 0.5, 4.5, 4. , 4. , 4.5, 5. , 2.5, 4.5, 2. , 1.5, 3. , 2.5,\n",
       "       4.5, 2.5, 2.5, 4.5, 1. , 1.5, 4.5, 1. , 2. , 4. , 5. , 3.5, 2. ,\n",
       "       4. , 3. , 3.5, 2.5, 4. , 4. , 3. , 2. , 3. , 3. , 0.5, 4.5, 1.5,\n",
       "       5. , 4. , 3.5, 2. , 0.5, 1. , 2.5, 0.5, 5. , 1. , 5. , 4. , 2. ,\n",
       "       1.5, 4.5, 0.5, 4. , 1. , 1.5, 1. , 3. , 5. ])"
      ]
     },
     "execution_count": 7,
     "metadata": {},
     "output_type": "execute_result"
    }
   ],
   "source": [
    "ratings=np.array(pd.cut(np.random.uniform(0,1,size=n),10,labels=set_of_ratings))\n",
    "a=random.choice(('NaN',ratings[0]))\n",
    "ratings[0]=a\n",
    "ratings"
   ]
  },
  {
   "cell_type": "code",
   "execution_count": null,
   "id": "8ab5ac6c-6320-4d79-86ed-0c58dd24b6a1",
   "metadata": {},
   "outputs": [],
   "source": []
  },
  {
   "cell_type": "raw",
   "id": "e8a79a74-bf31-4073-89ff-590d90e78248",
   "metadata": {},
   "source": []
  },
  {
   "cell_type": "code",
   "execution_count": 8,
   "id": "d96f6767-896c-40e9-a5b1-4aad309b97a4",
   "metadata": {},
   "outputs": [
    {
     "data": {
      "text/plain": [
       "0"
      ]
     },
     "execution_count": 8,
     "metadata": {},
     "output_type": "execute_result"
    }
   ],
   "source": [
    "a=np.random.choice((0,1))\n",
    "a"
   ]
  },
  {
   "cell_type": "code",
   "execution_count": null,
   "id": "8520c666-7765-4617-b37a-7d6aa3e267fe",
   "metadata": {},
   "outputs": [],
   "source": []
  },
  {
   "cell_type": "code",
   "execution_count": null,
   "id": "b3f12549-e16c-40d5-b1a6-a1e776a0c040",
   "metadata": {},
   "outputs": [],
   "source": []
  },
  {
   "cell_type": "code",
   "execution_count": 9,
   "id": "4206944c-96f5-4517-9823-81f15c54f793",
   "metadata": {},
   "outputs": [],
   "source": [
    "def create_ratings(dist='normal',n=100):\n",
    "    if dist=='uniform':\n",
    "        ratings=np.array(pd.cut(np.random.uniform(0,1,size=n),10,labels=set_of_ratings))\n",
    "    if dist=='normal':\n",
    "        ratings=np.array(pd.cut(np.random.normal(0,1,size=n),10,labels=set_of_ratings))\n",
    "    #set on av. 50% of ratings to 'NaN'\n",
    "    for i in range(n):\n",
    "        ratings[i]=random.choice(('NaN',ratings[i]))  \n",
    "    return ratings"
   ]
  },
  {
   "cell_type": "code",
   "execution_count": 10,
   "id": "031a9c8d-10b1-45b9-8523-0a873cc0d612",
   "metadata": {},
   "outputs": [],
   "source": [
    "def create_ratings_matrix(dist='normal',m=10):\n",
    "    ratings_matrix=[]\n",
    "    for i in range(m):\n",
    "        ratings_matrix.append(create_ratings(dist))\n",
    "    return pd.DataFrame(ratings_matrix)"
   ]
  },
  {
   "cell_type": "code",
   "execution_count": 54,
   "id": "9898f479-56a0-4321-b47b-859eb06d1154",
   "metadata": {},
   "outputs": [],
   "source": [
    "#Create ratings matrix\n",
    "ratings_matrix=create_ratings_matrix('uniform')\n",
    "#Unstack ratings matrix\n",
    "ratings_matrix=pd.DataFrame(ratings_matrix.unstack())\n",
    "#Create dataframe from list_of_timestamps\n",
    "list_of_timestamps=pd.DataFrame(list_of_timestamps)\n",
    "# Add timestamps(index) to unstacked ratings_maxtrix\n",
    "ratings_matrix['index']=list_of_timestamps\n",
    "#Rename colums and set index\n",
    "ratings_matrix.columns=['UserId','movieId','rating','index']\n",
    "ratings_matrix.set_index('index',inplace=True)"
   ]
  },
  {
   "cell_type": "code",
   "execution_count": null,
   "id": "dc42e117-20b9-4928-b984-d0df2400d2a3",
   "metadata": {},
   "outputs": [],
   "source": []
  },
  {
   "cell_type": "code",
   "execution_count": 85,
   "id": "2ecb1dac-fb4a-480c-b4f4-d255b11d13ba",
   "metadata": {},
   "outputs": [
    {
     "data": {
      "text/html": [
       "<div>\n",
       "<style scoped>\n",
       "    .dataframe tbody tr th:only-of-type {\n",
       "        vertical-align: middle;\n",
       "    }\n",
       "\n",
       "    .dataframe tbody tr th {\n",
       "        vertical-align: top;\n",
       "    }\n",
       "\n",
       "    .dataframe thead th {\n",
       "        text-align: right;\n",
       "    }\n",
       "</style>\n",
       "<table border=\"1\" class=\"dataframe\">\n",
       "  <thead>\n",
       "    <tr style=\"text-align: right;\">\n",
       "      <th></th>\n",
       "      <th>UserId</th>\n",
       "      <th>movieId</th>\n",
       "      <th>rating</th>\n",
       "    </tr>\n",
       "    <tr>\n",
       "      <th>index</th>\n",
       "      <th></th>\n",
       "      <th></th>\n",
       "      <th></th>\n",
       "    </tr>\n",
       "  </thead>\n",
       "  <tbody>\n",
       "    <tr>\n",
       "      <th>0</th>\n",
       "      <td>0</td>\n",
       "      <td>0</td>\n",
       "      <td>NaN</td>\n",
       "    </tr>\n",
       "    <tr>\n",
       "      <th>1</th>\n",
       "      <td>0</td>\n",
       "      <td>1</td>\n",
       "      <td>NaN</td>\n",
       "    </tr>\n",
       "    <tr>\n",
       "      <th>2</th>\n",
       "      <td>0</td>\n",
       "      <td>2</td>\n",
       "      <td>NaN</td>\n",
       "    </tr>\n",
       "    <tr>\n",
       "      <th>3</th>\n",
       "      <td>0</td>\n",
       "      <td>3</td>\n",
       "      <td>NaN</td>\n",
       "    </tr>\n",
       "    <tr>\n",
       "      <th>4</th>\n",
       "      <td>0</td>\n",
       "      <td>4</td>\n",
       "      <td>NaN</td>\n",
       "    </tr>\n",
       "    <tr>\n",
       "      <th>...</th>\n",
       "      <td>...</td>\n",
       "      <td>...</td>\n",
       "      <td>...</td>\n",
       "    </tr>\n",
       "    <tr>\n",
       "      <th>995</th>\n",
       "      <td>99</td>\n",
       "      <td>5</td>\n",
       "      <td>NaN</td>\n",
       "    </tr>\n",
       "    <tr>\n",
       "      <th>996</th>\n",
       "      <td>99</td>\n",
       "      <td>6</td>\n",
       "      <td>NaN</td>\n",
       "    </tr>\n",
       "    <tr>\n",
       "      <th>997</th>\n",
       "      <td>99</td>\n",
       "      <td>7</td>\n",
       "      <td>NaN</td>\n",
       "    </tr>\n",
       "    <tr>\n",
       "      <th>998</th>\n",
       "      <td>99</td>\n",
       "      <td>8</td>\n",
       "      <td>4.5</td>\n",
       "    </tr>\n",
       "    <tr>\n",
       "      <th>999</th>\n",
       "      <td>99</td>\n",
       "      <td>9</td>\n",
       "      <td>NaN</td>\n",
       "    </tr>\n",
       "  </tbody>\n",
       "</table>\n",
       "<p>1000 rows × 3 columns</p>\n",
       "</div>"
      ],
      "text/plain": [
       "       UserId  movieId  rating\n",
       "index                         \n",
       "0           0        0     NaN\n",
       "1           0        1     NaN\n",
       "2           0        2     NaN\n",
       "3           0        3     NaN\n",
       "4           0        4     NaN\n",
       "...       ...      ...     ...\n",
       "995        99        5     NaN\n",
       "996        99        6     NaN\n",
       "997        99        7     NaN\n",
       "998        99        8     4.5\n",
       "999        99        9     NaN\n",
       "\n",
       "[1000 rows x 3 columns]"
      ]
     },
     "execution_count": 85,
     "metadata": {},
     "output_type": "execute_result"
    }
   ],
   "source": [
    "ratings_matrix"
   ]
  },
  {
   "cell_type": "code",
   "execution_count": 84,
   "id": "4c70cd4e-483e-43be-8a9f-70533e1b50c2",
   "metadata": {},
   "outputs": [],
   "source": []
  },
  {
   "cell_type": "code",
   "execution_count": 13,
   "id": "884913b9-9374-4065-8491-f7d0cb29f0d6",
   "metadata": {},
   "outputs": [],
   "source": [
    "#plt.hist(create_ratings(),10)"
   ]
  },
  {
   "cell_type": "code",
   "execution_count": 14,
   "id": "9552f96a-3155-4298-bc63-67f76d2507aa",
   "metadata": {},
   "outputs": [],
   "source": [
    "#matrix_of_ratings"
   ]
  },
  {
   "cell_type": "code",
   "execution_count": 15,
   "id": "8e829b2f-9d83-41f5-9ffc-feafb04dfcf6",
   "metadata": {},
   "outputs": [],
   "source": [
    "# create artifical ratings for each movie\n",
    "# relevant paramters: mean, std, no of ratings\n",
    "\n",
    "random_ratings=[]\n",
    "def rate_movie(movie):\n",
    "    for i in range(0,n):\n",
    "        random_ratings.append(round(np.random.uniform(1,5)))\n",
    "    matrix_of_ratings[movie]=random_ratings\n",
    "    "
   ]
  },
  {
   "cell_type": "code",
   "execution_count": 16,
   "id": "0d1900b4-146d-4df2-bd7a-bbe7cc4f7198",
   "metadata": {},
   "outputs": [],
   "source": [
    "rate_movie(0)"
   ]
  },
  {
   "cell_type": "code",
   "execution_count": 17,
   "id": "782db316-dddf-4372-b945-7aa08fa101e7",
   "metadata": {},
   "outputs": [
    {
     "data": {
      "text/plain": [
       "array([2, 4, 3, 3, 1, 1, 2, 2, 2, 3, 4, 1, 3, 1, 3, 4, 2, 4, 5, 5, 4, 4,\n",
       "       2, 2, 3, 4, 4, 2, 1, 4, 5, 5, 1, 4, 3, 3, 3, 2, 5, 3, 2, 4, 1, 2,\n",
       "       2, 5, 5, 3, 3, 2, 3, 4, 4, 2, 2, 3, 3, 3, 3, 4, 3, 4, 2, 1, 5, 4,\n",
       "       4, 1, 4, 1, 3, 4, 4, 2, 3, 1, 4, 3, 4, 1, 5, 2, 4, 4, 2, 5, 3, 5,\n",
       "       4, 3, 2, 2, 2, 4, 4, 4, 2, 4, 3, 5])"
      ]
     },
     "execution_count": 17,
     "metadata": {},
     "output_type": "execute_result"
    }
   ],
   "source": [
    "matrix_of_ratings[0]"
   ]
  },
  {
   "cell_type": "code",
   "execution_count": 18,
   "id": "572f4192-5fcf-494a-9d1d-20a3b4aa6278",
   "metadata": {},
   "outputs": [],
   "source": [
    "def create_user():\n",
    "    pass"
   ]
  },
  {
   "cell_type": "code",
   "execution_count": 19,
   "id": "2730adf1-35ee-4cac-8b4e-1f79143ae536",
   "metadata": {},
   "outputs": [],
   "source": [
    "def create_movies():\n",
    "    pass"
   ]
  },
  {
   "cell_type": "code",
   "execution_count": null,
   "id": "5bbb26df-68fa-487e-9466-9ccd9a538f42",
   "metadata": {},
   "outputs": [],
   "source": []
  },
  {
   "cell_type": "code",
   "execution_count": 20,
   "id": "d5040cb5-ed6b-465d-a4de-3ff942c67360",
   "metadata": {},
   "outputs": [],
   "source": []
  }
 ],
 "metadata": {
  "kernelspec": {
   "display_name": "Python 3",
   "language": "python",
   "name": "python3"
  },
  "language_info": {
   "codemirror_mode": {
    "name": "ipython",
    "version": 3
   },
   "file_extension": ".py",
   "mimetype": "text/x-python",
   "name": "python",
   "nbconvert_exporter": "python",
   "pygments_lexer": "ipython3",
   "version": "3.8.8"
  }
 },
 "nbformat": 4,
 "nbformat_minor": 5
}
