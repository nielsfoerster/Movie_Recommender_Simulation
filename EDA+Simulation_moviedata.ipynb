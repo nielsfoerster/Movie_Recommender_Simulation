{
 "cells": [
  {
   "cell_type": "code",
   "execution_count": 1,
   "id": "861b8866-03c0-4a15-9ae5-7902df5c9fac",
   "metadata": {},
   "outputs": [],
   "source": [
    "import pandas as pd\n",
    "import seaborn as sns\n",
    "import random\n",
    "import numpy as np\n",
    "from matplotlib import pyplot as plt\n",
    "%matplotlib inline\n",
    "from sklearn.metrics.pairwise import cosine_similarity"
   ]
  },
  {
   "cell_type": "code",
   "execution_count": 2,
   "id": "f354a997-6f3d-4043-b203-7a7eafb219ab",
   "metadata": {},
   "outputs": [],
   "source": [
    "# Ranking algoritm: weighted rank\n",
    "# We are using a **ranking algorithm** to combine mean and count into a single number.\n",
    "#\n",
    "#  R - average rating for one movie\n",
    "#  v - number of votes for one movie\n",
    "#  C - average rating of all movies\n",
    "#  m - threshold hyperparameter (set this manually)"
   ]
  },
  {
   "cell_type": "code",
   "execution_count": 3,
   "id": "1dc688ed-abec-48e4-b4e9-893fb64110ed",
   "metadata": {},
   "outputs": [],
   "source": [
    "# Load movie ratings data (small set)\n",
    "df_movies = pd.read_csv('ml-latest-small/movies.csv')\n",
    "df_ratings = pd.read_csv('ml-latest-small/ratings.csv')\n",
    "df_tags = pd.read_csv('ml-latest-small/tags.csv')\n",
    "df_links = pd.read_csv('ml-latest-small/links.csv')"
   ]
  },
  {
   "cell_type": "code",
   "execution_count": 4,
   "id": "8a6f3f34-8b98-434d-8b62-3cbba88f04ae",
   "metadata": {},
   "outputs": [],
   "source": [
    "data=pd.merge(df_ratings,df_movies,on='movieId')"
   ]
  },
  {
   "cell_type": "code",
   "execution_count": 5,
   "id": "a558cf93-369b-4723-bc0a-840a6e4ae8a2",
   "metadata": {},
   "outputs": [],
   "source": [
    "#number of different movie Ids\n",
    "#df_ls.movieId.unique().shape"
   ]
  },
  {
   "cell_type": "code",
   "execution_count": 6,
   "id": "932c70da-f1a9-4bab-a1b9-8096d8fe41f1",
   "metadata": {},
   "outputs": [],
   "source": [
    "#set(df_ls['rating'])"
   ]
  },
  {
   "cell_type": "code",
   "execution_count": null,
   "id": "95904892-769e-4478-9698-b455271a0cf5",
   "metadata": {},
   "outputs": [],
   "source": []
  },
  {
   "cell_type": "code",
   "execution_count": 7,
   "id": "eb106d70-4336-4620-8101-4a4fe6e728fd",
   "metadata": {},
   "outputs": [],
   "source": [
    "#df_ls_chartlist"
   ]
  },
  {
   "cell_type": "code",
   "execution_count": 8,
   "id": "e2d0398a-88c2-4648-8f53-e74aaeb77a98",
   "metadata": {
    "tags": []
   },
   "outputs": [],
   "source": [
    "# sns.histplot(df_ls_chartlist[['weighted_rank','av_rating']])\n",
    "# #plt.ylim(0, 1500)\n",
    "# #plt.xlim(0, 5.2)\n",
    "# plt.show()\n",
    "# plt.close()\n",
    "# sns.histplot(df_ls_chartlist['no_of_ratings'],bins=30)\n",
    "# plt.ylim(0, 2000)  # first bin -> ~8000\n",
    "# plt.show()"
   ]
  },
  {
   "cell_type": "code",
   "execution_count": 9,
   "id": "25a98a2c-68b6-4458-8174-dd7cc4ccb9dd",
   "metadata": {},
   "outputs": [],
   "source": [
    "# Corelation between Av.ratings and volume\n",
    "# df_ls_chartlist[['no_of_ratings','av_rating']].corr()"
   ]
  },
  {
   "cell_type": "code",
   "execution_count": 10,
   "id": "1a155c16-2ad8-4a38-8c2a-51d01eee0a37",
   "metadata": {},
   "outputs": [],
   "source": [
    "#new column with mean rating per movie\n",
    "def calculate_weighted_rank(data,m=100):\n",
    "    data['av_rating']=data.groupby(['movieId'])['rating'].transform('mean')\n",
    "\n",
    "#new column with number of ratings per movie\n",
    "    data['no_of_ratings']=data.groupby(['movieId'])['rating'].transform('count')\n",
    "    \n",
    "    # new column with ranking of movie according to weighted_rank()\n",
    "    v = data['no_of_ratings']\n",
    "    R = data['av_rating']\n",
    "    C = data['rating'].mean()\n",
    "    #m = 100.0 \n",
    "    def weighted_rank(R, v, C, m):\n",
    "        return R * v / (v+m) + C * m / (v+m)\n",
    "    \n",
    "    data['weighted_rank']=weighted_rank(R,v,C,m) # use function from above as input for new column/variable\n",
    "    return data\n",
    "#df_ratings['weighted_rank']=R * v / (v+m) + C * m / (v+m) # using this would have the same result"
   ]
  },
  {
   "cell_type": "code",
   "execution_count": 11,
   "id": "0b5ba585-32f5-44b0-942d-6fa673d286d1",
   "metadata": {},
   "outputs": [],
   "source": [
    "data=calculate_weighted_rank(data,m=100)"
   ]
  },
  {
   "cell_type": "code",
   "execution_count": 12,
   "id": "64e3087a-7a5d-4a68-9997-e1370dad5a5d",
   "metadata": {},
   "outputs": [],
   "source": [
    "#sort movies by weighted rating and drop duplicates\n",
    "def create_chartlis(data):\n",
    "    chartlist=data.sort_values('weighted_rank',ascending=False).drop_duplicates('movieId')['movieId']\n",
    "    return chartlist"
   ]
  },
  {
   "cell_type": "code",
   "execution_count": 13,
   "id": "168035aa-56a3-427a-bb00-610b5cd8109d",
   "metadata": {},
   "outputs": [
    {
     "data": {
      "text/plain": [
       "16475     318\n",
       "14513    2959\n",
       "1918      296\n",
       "1697      260\n",
       "45417     858\n",
       "         ... \n",
       "27778      19\n",
       "59698    1562\n",
       "44067    1882\n",
       "31959     435\n",
       "34698    2701\n",
       "Name: movieId, Length: 9724, dtype: int64"
      ]
     },
     "execution_count": 13,
     "metadata": {},
     "output_type": "execute_result"
    }
   ],
   "source": [
    "create_chartlis(data)"
   ]
  },
  {
   "cell_type": "code",
   "execution_count": 14,
   "id": "4e86f339-d79d-4a3f-bf80-f77cc898515b",
   "metadata": {},
   "outputs": [],
   "source": [
    "def create_cossim_matrix(data):\n",
    "    multi = data.set_index(['userId', 'movieId'])['rating']\n",
    "    matrix = multi.unstack().T.fillna(0)\n",
    "    cos_sim_matrix=cosine_similarity(matrix.T)\n",
    "    cos_sim_matrix=pd.DataFrame(cos_sim_matrix,columns=set(data['userId']),index=set(data['userId']))\n",
    "    #print('shape of cossim_matrix: ',cos_sim_matrix.shape)\n",
    "    return cos_sim_matrix"
   ]
  },
  {
   "cell_type": "code",
   "execution_count": 15,
   "id": "be60455f-41c9-425f-a6b1-1466aa83897c",
   "metadata": {},
   "outputs": [],
   "source": [
    "#Heatmap to see if some users have similiar tase\n",
    "#plt.figure(figsize=(8, 8))\n",
    "#sns.heatmap(matrix, cbar=None)"
   ]
  },
  {
   "cell_type": "code",
   "execution_count": null,
   "id": "d788bba0-0d7e-4c8b-876d-6421e58a01e9",
   "metadata": {},
   "outputs": [],
   "source": []
  },
  {
   "cell_type": "code",
   "execution_count": 16,
   "id": "03679068-d4c5-43d2-8807-821afa5cac34",
   "metadata": {},
   "outputs": [],
   "source": [
    "#Create list with most similiar 5 users for each user\n",
    "def create_closest_user_table(cos_sim_matrix):\n",
    "    k_closest_users=[] # matrix with user Ids of closest users for each user\n",
    "    k_highest_cossims=[] # maxtrix with corresponding cos-sim values\n",
    "    k=6\n",
    "    for i in range(1,cos_sim_matrix.shape[0]+1):\n",
    "        # lists with user ids\n",
    "        most_sim_=cos_sim_matrix.sort_values(by=i,ascending=False)[i][0:k].index\n",
    "        #print(most_sim_)\n",
    "        k_closest_users.append(most_sim_)\n",
    "        # lists with cosinus similiarity values\n",
    "        #most_sim_=list(cos_sim_matrix.sort_values(by=i,ascending=False)[i][0:k])  # list??? why\n",
    "        #k_highest_cossims.append(most_sim_)\n",
    "\n",
    "\n",
    "    #Create DataFrame\n",
    "    k_closest_users=pd.DataFrame(k_closest_users,index=cos_sim_matrix.columns)\n",
    "    #k_highest_cossims=pd.DataFrame(k_highest_cossims)\n",
    "\n",
    "    # Transpose and drop first row (equal to index)\n",
    "    k_closest_users=k_closest_users.T.drop(0,axis=0)\n",
    "    #k_highest_cossims=k_highest_cossims.T.drop(0,axis=0)\n",
    "    \n",
    "    return k_closest_users"
   ]
  },
  {
   "cell_type": "code",
   "execution_count": 17,
   "id": "ee6bcef0-8c7e-4c07-8880-c7fa517e95c4",
   "metadata": {},
   "outputs": [],
   "source": [
    "# find needed list selection\n",
    "#list(df_ls[df_ls['userId']==1].sort_values(by='rating',ascending=False)['movieId'][0:20])"
   ]
  },
  {
   "cell_type": "code",
   "execution_count": null,
   "id": "70bdaf76-6566-4845-8a05-ecf6e603328a",
   "metadata": {},
   "outputs": [],
   "source": []
  },
  {
   "cell_type": "code",
   "execution_count": 18,
   "id": "f5c79182-4d6c-4a30-9b8e-66c0f0bffef0",
   "metadata": {},
   "outputs": [],
   "source": [
    "# m most favourite movies per user\n",
    "def create_favourites_table(data):\n",
    "    m_favourite_moviesId=[] #matrix with movie Ids\n",
    "    #m_favourite_moviesName=[] #matrix with movie names\n",
    "    m=20\n",
    "\n",
    "    for i in set(data['userId']):\n",
    "        #lists with Ids\n",
    "        m_favourites_=list(data[data['userId']==i].sort_values(by='rating',ascending=False)['movieId'][0:m])\n",
    "        m_favourite_moviesId.append(m_favourites_)\n",
    "        #lists with names\n",
    "        #m_favouritesName_=list(data[data['userId']==i].sort_values(by='rating',ascending=False)['title'][0:m])\n",
    "        #m_favourite_moviesName.append(m_favouritesName_)\n",
    "\n",
    "    # Transpose list\n",
    "    m_favourite_moviesId=pd.DataFrame(m_favourite_moviesId,index=set(data['userId'])).T\n",
    "   # m_favourite_moviesName=pd.DataFrame(m_favourite_moviesName).T\n",
    "    return m_favourite_moviesId"
   ]
  },
  {
   "cell_type": "code",
   "execution_count": null,
   "id": "eff60473-9a8a-41e0-8bde-4a3014a25769",
   "metadata": {},
   "outputs": [],
   "source": []
  },
  {
   "cell_type": "code",
   "execution_count": 19,
   "id": "7a24ccc1-1e85-4348-aa6f-70bc5d13117d",
   "metadata": {},
   "outputs": [],
   "source": [
    "# function to create matrix with top 5 moviess of top most similiar users\n",
    "def create_recommender_table(m_favourite_moviesId,k_closest_users,k=3,su=5): # k = number of bestrated movies per similiar user\n",
    "    recommender_table=[]\n",
    "    for i in range(1,k_closest_users.shape[1]+1):\n",
    "        for j in range(1,su+1):\n",
    "            recommender_table.append(m_favourite_moviesId[k_closest_users[i][j]][0:k])\n",
    "    \n",
    "    recommender_table=pd.DataFrame(np.array(recommender_table).reshape(k_closest_users.shape[1],su*k).T,columns=k_closest_users.columns)\n",
    "    \n",
    "    return recommender_table"
   ]
  },
  {
   "cell_type": "code",
   "execution_count": 20,
   "id": "ae183975-7aa1-4bec-bb4b-24f3a545951e",
   "metadata": {},
   "outputs": [],
   "source": [
    "def picking_probabilities(k=3,su=5,exp=1): # k: number of movies per sim user, su: number of sim users, exp: power for prob \n",
    "    if exp==1:\n",
    "        probabilities=np.array(range(1,k*su+1))\n",
    "        probabilities=probabilities/(sum(probabilities))\n",
    "    if exp==2:\n",
    "        probabilities=np.array(range(1,k*su+1))**2\n",
    "        probabilities=probabilities/(sum(probabilities))\n",
    "    return probabilities[::-1]"
   ]
  },
  {
   "cell_type": "code",
   "execution_count": 21,
   "id": "65fe749c-4ca5-4bc2-9357-d930639f1d82",
   "metadata": {},
   "outputs": [],
   "source": [
    "def pick_and_rate_movie_simple(user,data,recommender_table,k=3,su=5,exp=1):\n",
    "    check=0\n",
    "    counter=0\n",
    "    recommender_table=recommender_table[0:k*su]\n",
    "    while check==0:  # check=0 means, that there is not entry yet\n",
    "\n",
    "        next_movie=np.random.choice(recommender_table,p=picking_probabilities(k,su,exp))\n",
    "\n",
    "        rating=data[data['movieId']==next_movie]['rating'].mean()\n",
    "        check=data[(data['userId']==user) & (data['movieId']==next_movie)].shape[0]\n",
    "        counter+=1\n",
    "\n",
    "        if check==1 and counter<5:     # here: use 'and' instead of '&'; '&' would be used as bit-wise operator here (works only in Pandas as intended)\n",
    "            #recommender_table=recommender_table[counter::]\n",
    "            check=0\n",
    "            #print(f'{i}: user {user} has watched movie. Draw again.')\n",
    "        elif check==1 and counter==5:\n",
    "            #print(f'{i}: user {user} has watched all movies. No more movies are drawn.')\n",
    "            return next_movie, rating, counter        \n",
    "        else:\n",
    "            counter=0\n",
    "            return next_movie, rating, counter\n",
    "        \n",
    "#     if data[(data['userId']==user) & (data['movieId']==next_movie)].shape[0]==1:\n",
    "#         print(f'new draw for {user}')\n",
    "#         return pick_and_rate_movie(user,data,recommender_table) # only 1000 recursion with python; alternative: while loop\n",
    "#     else:\n",
    "#         next_movie\n",
    "#         rating=data[data['movieId']==next_movie]['rating'].mean()\n",
    "        \n",
    "#     return next_movie,rating"
   ]
  },
  {
   "cell_type": "code",
   "execution_count": 22,
   "id": "f282e65f-228f-4c86-9bb1-8662dc2a0d9f",
   "metadata": {},
   "outputs": [],
   "source": [
    "# def find_movies_not_watched(user,data):\n",
    "    \n",
    "#     next_movie=np.random.choice(recommender_table[user],p=picking_probabilities(k,su,exp))\n",
    "#     movies_watched=data[data['userId']==user]['movieId']\n",
    "#     while next_movie not in movies_watched:\n",
    "#         rating=data[data['movieId']==next_movie]['rating'].mean()\n",
    "#         return next_movie,rating\n",
    "#     else:\n",
    "#         print(f'user {user} has watched this movie.')\n",
    "#         next_movie='continue'\n",
    "#         rating='place_holder'\n",
    "#         return next_movie,rating"
   ]
  },
  {
   "cell_type": "code",
   "execution_count": 23,
   "id": "38fe75a0-9d5d-4110-bf89-b70acd1ac25e",
   "metadata": {},
   "outputs": [],
   "source": [
    "# dict mit userId as key (set of movie Ids, or dict in dict )"
   ]
  },
  {
   "cell_type": "code",
   "execution_count": null,
   "id": "82f7bd61-f463-42e7-9551-7fb25f7e3f40",
   "metadata": {},
   "outputs": [],
   "source": []
  },
  {
   "cell_type": "code",
   "execution_count": null,
   "id": "f30c9b39-0b13-47d4-bacd-97d737ab424e",
   "metadata": {},
   "outputs": [],
   "source": []
  },
  {
   "cell_type": "code",
   "execution_count": null,
   "id": "0056188a-eaa1-4275-b4d3-e124e70ab3a5",
   "metadata": {},
   "outputs": [],
   "source": []
  },
  {
   "cell_type": "code",
   "execution_count": 24,
   "id": "e5c3f4fc-a179-467d-ba2b-6eb431165868",
   "metadata": {},
   "outputs": [],
   "source": [
    "def pick_check_and_rate_movie(user,data,recommender_table,k=3,su=5,exp=1):\n",
    "    check=0\n",
    "    counter=0\n",
    "    #recommender_table=recommender_table[user]\n",
    "    \n",
    "    while check==0:  # check=0 means, that there is not entry yet\n",
    "        next_movie=np.random.choice(recommender_table[user],p=picking_probabilities(k,su,exp))\n",
    "        #next_movie=recommender_table.iloc[0]\n",
    "        rating=data[data['movieId']==next_movie]['rating'].mean()\n",
    "        check=data[(data['userId']==user) & (data['movieId']==next_movie)].shape[0]\n",
    "        counter+=1\n",
    "\n",
    "        if check==1 and counter<5:     # here: use 'and' instead of '&'; '&' would be used as bit-wise operator here (works only in Pandas as intended)\n",
    "            #recommender_table=recommender_table[counter::]\n",
    "            check=0\n",
    "            #print(f'{i}: user {user} has watched movie. Draw again.')\n",
    "        elif check==1 and counter==5:\n",
    "            print(f'{i}: user {user} has watched all movies. No more movies are drawn.')\n",
    "            return next_movie, rating, counter        \n",
    "        else:\n",
    "            counter=0\n",
    "            return next_movie, rating, counter"
   ]
  },
  {
   "cell_type": "code",
   "execution_count": 25,
   "id": "3d43b902-1a87-4c94-80d0-18ce1cc2a7d3",
   "metadata": {},
   "outputs": [],
   "source": [
    "# recommender for weighted_ranking\n",
    "\n",
    "# def pick_check_and_rate_movie_simple(user,data):\n",
    "#             next_movie=np.random.choice(recommender_table[user],p=picking_probabilities(k,su,exp))\n",
    "#         #next_movie=recommender_table.iloc[0]\n",
    "#         rating=data[data['movieId']==next_movie]['rating'].mean()\n",
    "#         check=data[(data['userId']==user) & (data['movieId']==next_movie)].shape[0]\n",
    "\n"
   ]
  },
  {
   "cell_type": "code",
   "execution_count": 26,
   "id": "5b225344-460c-488a-90bf-8f8d06abcd10",
   "metadata": {},
   "outputs": [],
   "source": [
    "# def rate_movie(next_movie,data):\n",
    "#     rating=data[data['movieId']==next_movie]['rating'].mean()           #build in randomness!?\n",
    "#     return rating"
   ]
  },
  {
   "cell_type": "code",
   "execution_count": 27,
   "id": "b12477e4-5cf6-4005-ae62-734454b8cd8a",
   "metadata": {},
   "outputs": [],
   "source": [
    "def create_entry(user,next_movie,rating,data):\n",
    "    new_entry=pd.DataFrame([[user,next_movie,rating]],columns=['userId','movieId','rating'])\n",
    "    data=data.append(new_entry)\n",
    "    return data              # maybe here is the slow-source"
   ]
  },
  {
   "cell_type": "code",
   "execution_count": 28,
   "id": "056e6626-1bab-481b-83f9-e048e701fb5f",
   "metadata": {},
   "outputs": [],
   "source": [
    "def create_entries(n):\n",
    "    sim_data=pd.DataFrame()\n",
    "    for i in range(n):\n",
    "        sim_data=sim_data.append(create_entry(i))\n",
    "    return sim_data"
   ]
  },
  {
   "cell_type": "code",
   "execution_count": null,
   "id": "c193f9b0-9213-4b7a-a399-d2bfad5db4ba",
   "metadata": {},
   "outputs": [],
   "source": []
  },
  {
   "cell_type": "code",
   "execution_count": null,
   "id": "f5e954b5-608d-4350-af34-cd384678f5c8",
   "metadata": {},
   "outputs": [],
   "source": []
  },
  {
   "cell_type": "code",
   "execution_count": 29,
   "id": "f5f7e2cb-d784-4196-b00d-abf08579d2e6",
   "metadata": {},
   "outputs": [],
   "source": [
    "# for i in list(range(1,611))*10:\n",
    "#     user=i\n",
    "#     k=4\n",
    "#     su=4\n",
    "#     next_movie,rating,counter=pick_check_and_rate_movie(user,\n",
    "#                                                            data,\n",
    "#                                                            create_recommender_table(create_favourites_table(data),\n",
    "#                                                                                     create_closest_user_table(create_cossim_matrix(data)),k,su),k,su)\n",
    "#     if counter==5:\n",
    "#         continue\n",
    "#     data=create_entry(user,next_movie,rating,data)\n",
    "#     #print(f'{i}: dataset updated')"
   ]
  },
  {
   "cell_type": "code",
   "execution_count": null,
   "id": "71057372-6e6d-4ec1-8c94-91811bfeb37e",
   "metadata": {},
   "outputs": [],
   "source": []
  },
  {
   "cell_type": "code",
   "execution_count": 30,
   "id": "e42a8ed8-9051-4fac-8f3f-c64e542d205b",
   "metadata": {},
   "outputs": [],
   "source": [
    "#         simulated_customer.to_csv('simulated_customer_test20.csv', sep=',', encoding='utf-8')"
   ]
  },
  {
   "cell_type": "code",
   "execution_count": 31,
   "id": "30e6a353-e2f7-4918-8ac6-cd651e81f2df",
   "metadata": {},
   "outputs": [
    {
     "name": "stdout",
     "output_type": "stream",
     "text": [
      "1\n"
     ]
    }
   ],
   "source": [
    "for k in range(1,2):\n",
    "    print(k)\n",
    "    for i in list(range(1,611))*k:\n",
    "        user=i\n",
    "        k=5\n",
    "        su=5\n",
    "        next_movie,rating,counter=pick_and_rate_movie_simple(user,data,create_chartlis(data),k,su,exp=1)\n",
    "\n",
    "\n",
    "\n",
    "        if counter==5:\n",
    "            continue\n",
    "        data=create_entry(user,next_movie,rating,data)\n",
    "        #print(f'{i}: dataset updated')"
   ]
  },
  {
   "cell_type": "code",
   "execution_count": 32,
   "id": "717c5a0a-6e1b-4510-a8df-6821ff32f2b9",
   "metadata": {},
   "outputs": [
    {
     "data": {
      "text/html": [
       "<div>\n",
       "<style scoped>\n",
       "    .dataframe tbody tr th:only-of-type {\n",
       "        vertical-align: middle;\n",
       "    }\n",
       "\n",
       "    .dataframe tbody tr th {\n",
       "        vertical-align: top;\n",
       "    }\n",
       "\n",
       "    .dataframe thead th {\n",
       "        text-align: right;\n",
       "    }\n",
       "</style>\n",
       "<table border=\"1\" class=\"dataframe\">\n",
       "  <thead>\n",
       "    <tr style=\"text-align: right;\">\n",
       "      <th></th>\n",
       "      <th>userId</th>\n",
       "      <th>movieId</th>\n",
       "      <th>rating</th>\n",
       "      <th>timestamp</th>\n",
       "      <th>title</th>\n",
       "      <th>genres</th>\n",
       "      <th>av_rating</th>\n",
       "      <th>no_of_ratings</th>\n",
       "      <th>weighted_rank</th>\n",
       "    </tr>\n",
       "  </thead>\n",
       "  <tbody>\n",
       "    <tr>\n",
       "      <th>0</th>\n",
       "      <td>1</td>\n",
       "      <td>1</td>\n",
       "      <td>4.000000</td>\n",
       "      <td>9.649827e+08</td>\n",
       "      <td>Toy Story (1995)</td>\n",
       "      <td>Adventure|Animation|Children|Comedy|Fantasy</td>\n",
       "      <td>3.92093</td>\n",
       "      <td>215.0</td>\n",
       "      <td>3.787796</td>\n",
       "    </tr>\n",
       "    <tr>\n",
       "      <th>1</th>\n",
       "      <td>5</td>\n",
       "      <td>1</td>\n",
       "      <td>4.000000</td>\n",
       "      <td>8.474350e+08</td>\n",
       "      <td>Toy Story (1995)</td>\n",
       "      <td>Adventure|Animation|Children|Comedy|Fantasy</td>\n",
       "      <td>3.92093</td>\n",
       "      <td>215.0</td>\n",
       "      <td>3.787796</td>\n",
       "    </tr>\n",
       "    <tr>\n",
       "      <th>2</th>\n",
       "      <td>7</td>\n",
       "      <td>1</td>\n",
       "      <td>4.500000</td>\n",
       "      <td>1.106636e+09</td>\n",
       "      <td>Toy Story (1995)</td>\n",
       "      <td>Adventure|Animation|Children|Comedy|Fantasy</td>\n",
       "      <td>3.92093</td>\n",
       "      <td>215.0</td>\n",
       "      <td>3.787796</td>\n",
       "    </tr>\n",
       "    <tr>\n",
       "      <th>3</th>\n",
       "      <td>15</td>\n",
       "      <td>1</td>\n",
       "      <td>2.500000</td>\n",
       "      <td>1.510578e+09</td>\n",
       "      <td>Toy Story (1995)</td>\n",
       "      <td>Adventure|Animation|Children|Comedy|Fantasy</td>\n",
       "      <td>3.92093</td>\n",
       "      <td>215.0</td>\n",
       "      <td>3.787796</td>\n",
       "    </tr>\n",
       "    <tr>\n",
       "      <th>4</th>\n",
       "      <td>17</td>\n",
       "      <td>1</td>\n",
       "      <td>4.500000</td>\n",
       "      <td>1.305696e+09</td>\n",
       "      <td>Toy Story (1995)</td>\n",
       "      <td>Adventure|Animation|Children|Comedy|Fantasy</td>\n",
       "      <td>3.92093</td>\n",
       "      <td>215.0</td>\n",
       "      <td>3.787796</td>\n",
       "    </tr>\n",
       "    <tr>\n",
       "      <th>...</th>\n",
       "      <td>...</td>\n",
       "      <td>...</td>\n",
       "      <td>...</td>\n",
       "      <td>...</td>\n",
       "      <td>...</td>\n",
       "      <td>...</td>\n",
       "      <td>...</td>\n",
       "      <td>...</td>\n",
       "      <td>...</td>\n",
       "    </tr>\n",
       "    <tr>\n",
       "      <th>0</th>\n",
       "      <td>604</td>\n",
       "      <td>318</td>\n",
       "      <td>4.429022</td>\n",
       "      <td>NaN</td>\n",
       "      <td>NaN</td>\n",
       "      <td>NaN</td>\n",
       "      <td>NaN</td>\n",
       "      <td>NaN</td>\n",
       "      <td>NaN</td>\n",
       "    </tr>\n",
       "    <tr>\n",
       "      <th>0</th>\n",
       "      <td>605</td>\n",
       "      <td>58559</td>\n",
       "      <td>4.238255</td>\n",
       "      <td>NaN</td>\n",
       "      <td>NaN</td>\n",
       "      <td>NaN</td>\n",
       "      <td>NaN</td>\n",
       "      <td>NaN</td>\n",
       "      <td>NaN</td>\n",
       "    </tr>\n",
       "    <tr>\n",
       "      <th>0</th>\n",
       "      <td>607</td>\n",
       "      <td>1197</td>\n",
       "      <td>4.232394</td>\n",
       "      <td>NaN</td>\n",
       "      <td>NaN</td>\n",
       "      <td>NaN</td>\n",
       "      <td>NaN</td>\n",
       "      <td>NaN</td>\n",
       "      <td>NaN</td>\n",
       "    </tr>\n",
       "    <tr>\n",
       "      <th>0</th>\n",
       "      <td>608</td>\n",
       "      <td>58559</td>\n",
       "      <td>4.238255</td>\n",
       "      <td>NaN</td>\n",
       "      <td>NaN</td>\n",
       "      <td>NaN</td>\n",
       "      <td>NaN</td>\n",
       "      <td>NaN</td>\n",
       "      <td>NaN</td>\n",
       "    </tr>\n",
       "    <tr>\n",
       "      <th>0</th>\n",
       "      <td>609</td>\n",
       "      <td>2571</td>\n",
       "      <td>4.192446</td>\n",
       "      <td>NaN</td>\n",
       "      <td>NaN</td>\n",
       "      <td>NaN</td>\n",
       "      <td>NaN</td>\n",
       "      <td>NaN</td>\n",
       "      <td>NaN</td>\n",
       "    </tr>\n",
       "  </tbody>\n",
       "</table>\n",
       "<p>101388 rows × 9 columns</p>\n",
       "</div>"
      ],
      "text/plain": [
       "    userId  movieId    rating     timestamp             title  \\\n",
       "0        1        1  4.000000  9.649827e+08  Toy Story (1995)   \n",
       "1        5        1  4.000000  8.474350e+08  Toy Story (1995)   \n",
       "2        7        1  4.500000  1.106636e+09  Toy Story (1995)   \n",
       "3       15        1  2.500000  1.510578e+09  Toy Story (1995)   \n",
       "4       17        1  4.500000  1.305696e+09  Toy Story (1995)   \n",
       "..     ...      ...       ...           ...               ...   \n",
       "0      604      318  4.429022           NaN               NaN   \n",
       "0      605    58559  4.238255           NaN               NaN   \n",
       "0      607     1197  4.232394           NaN               NaN   \n",
       "0      608    58559  4.238255           NaN               NaN   \n",
       "0      609     2571  4.192446           NaN               NaN   \n",
       "\n",
       "                                         genres  av_rating  no_of_ratings  \\\n",
       "0   Adventure|Animation|Children|Comedy|Fantasy    3.92093          215.0   \n",
       "1   Adventure|Animation|Children|Comedy|Fantasy    3.92093          215.0   \n",
       "2   Adventure|Animation|Children|Comedy|Fantasy    3.92093          215.0   \n",
       "3   Adventure|Animation|Children|Comedy|Fantasy    3.92093          215.0   \n",
       "4   Adventure|Animation|Children|Comedy|Fantasy    3.92093          215.0   \n",
       "..                                          ...        ...            ...   \n",
       "0                                           NaN        NaN            NaN   \n",
       "0                                           NaN        NaN            NaN   \n",
       "0                                           NaN        NaN            NaN   \n",
       "0                                           NaN        NaN            NaN   \n",
       "0                                           NaN        NaN            NaN   \n",
       "\n",
       "    weighted_rank  \n",
       "0        3.787796  \n",
       "1        3.787796  \n",
       "2        3.787796  \n",
       "3        3.787796  \n",
       "4        3.787796  \n",
       "..            ...  \n",
       "0             NaN  \n",
       "0             NaN  \n",
       "0             NaN  \n",
       "0             NaN  \n",
       "0             NaN  \n",
       "\n",
       "[101388 rows x 9 columns]"
      ]
     },
     "execution_count": 32,
     "metadata": {},
     "output_type": "execute_result"
    }
   ],
   "source": [
    "data"
   ]
  },
  {
   "cell_type": "code",
   "execution_count": 33,
   "id": "86ae0a55-901a-49ee-9d89-f2636c011364",
   "metadata": {},
   "outputs": [],
   "source": [
    "\n",
    "data.to_csv('simulated_movie_user_data_simple_large.csv', sep=',', encoding='utf-8')\n"
   ]
  },
  {
   "cell_type": "code",
   "execution_count": null,
   "id": "57a973f1-bec0-4b69-a74f-02bf356842f2",
   "metadata": {},
   "outputs": [],
   "source": [
    "\n",
    "# calculate_weighted_rank(data,m=100)\n",
    "\n",
    "# create_cossim_matrix(data)\n",
    "\n",
    "# create_closest_user_table(cos_sim_matrix)\n",
    "\n",
    "# create_favourites_table(data)\n",
    "\n",
    "# create_recommender_table(m_favourite_moviesId,k_closest_users,k=3,su=5)\n",
    "\n",
    "# picking_probabilities(k=3,su=5,exp=1) # within pick_movie()\n",
    "\n",
    "# pick_movie(user,data,recommender_table,k=3,su=5,exp=1)\n",
    "\n",
    "# rate_movie(movie,data)\n",
    "\n",
    "# create_entry(user,next_movie,rating,data)\n",
    "\n",
    "# create_entries(n)"
   ]
  },
  {
   "cell_type": "code",
   "execution_count": null,
   "id": "c102bc00-ae35-42e5-813c-1221b4790031",
   "metadata": {},
   "outputs": [],
   "source": [
    "import cProfile, pstats, io\n",
    "def profile(fnc):\n",
    "    \n",
    "    \"\"\"A decorator that uses cProfile to profile a function. \n",
    "       Starts the profile before executing a function, then exeuctes the function,\n",
    "       then stops the profile, then prints out a diagnostics report.\n",
    "       \n",
    "       Lots of boilerplate code from the Python 3 documentation:\n",
    "       https://docs.python.org/3/library/profile.html#profile.Profile\n",
    "       \"\"\"\n",
    "    \n",
    "    def inner(*args, **kwargs):\n",
    "        \n",
    "        pr = cProfile.Profile()\n",
    "        pr.enable()  \n",
    "        retval = fnc(*args, **kwargs)       \n",
    "        pr.disable() \n",
    "        s = io.StringIO()\n",
    "        sortby = 'cumulative'\n",
    "        ps = pstats.Stats(pr, stream=s).sort_stats(sortby)\n",
    "        ps.print_stats()\n",
    "        print(s.getvalue())\n",
    "\n",
    "        return retval\n",
    "\n",
    "    return inner"
   ]
  },
  {
   "cell_type": "code",
   "execution_count": null,
   "id": "c4d3bede-3e84-4c7f-8d0d-3132320e0992",
   "metadata": {},
   "outputs": [],
   "source": []
  }
 ],
 "metadata": {
  "kernelspec": {
   "display_name": "Python 3",
   "language": "python",
   "name": "python3"
  },
  "language_info": {
   "codemirror_mode": {
    "name": "ipython",
    "version": 3
   },
   "file_extension": ".py",
   "mimetype": "text/x-python",
   "name": "python",
   "nbconvert_exporter": "python",
   "pygments_lexer": "ipython3",
   "version": "3.8.8"
  }
 },
 "nbformat": 4,
 "nbformat_minor": 5
}
