{
 "cells": [
  {
   "cell_type": "code",
   "execution_count": null,
   "id": "f1796fe2-b268-4b3c-af20-c2ba4115d476",
   "metadata": {},
   "outputs": [],
   "source": [
    "import pandas as pd\n",
    "from faker import Faker\n",
    "import random\n",
    "import Markov as mk"
   ]
  },
  {
   "cell_type": "code",
   "execution_count": null,
   "id": "8b490b60-b760-4f96-bb72-c4e8fd11908d",
   "metadata": {},
   "outputs": [],
   "source": [
    "\n",
    "# Two rows because first row can't have checkout location\n",
    "STATES_LOCAL = [['drinks', 'dairy', 'spices', 'fruits'],['drinks', 'dairy', 'spices', 'fruits','checkout']] \n",
    "\n",
    "STATES_PROB_LOCAL = [0.25, 0.25, 0.25, 0.25]\n",
    "\n",
    "TRANSITION_DICT_LOCAL = {'drinks':   [0.2, 0.2, 0.2, 0.2, 0.2],\n",
    "                                    'dairy':    [0.2, 0.2, 0.2, 0.2, 0.2],\n",
    "                                    'spices':   [0.2, 0.2, 0.2, 0.2, 0.2],\n",
    "                                    'fruits':    [0.2, 0.2, 0.2, 0.2, 0.2],\n",
    "                                    'checkout': [0,   0,   0,   0,   1]}\n",
    "class Customer:\n",
    "    \n",
    "\n",
    "    '''\n",
    "    class for a customer that moves through the market\n",
    "    '''\n",
    "    \n",
    "    \n",
    "    def __init__(self,states=STATES_LOCAL,states_probs=STATES_PROB_LOCAL,transitions_dict=TRANSITION_DICT_LOCAL):   #budget=100\n",
    "        self.name             = Faker().name()\n",
    "#         self.budget           = budget\n",
    "        self.states           = states\n",
    "        self.states_probs     = states_probs\n",
    "        self.transitions_dict = transitions_dict\n",
    "        #self.simulated_customer = dict(zip(self.name, self.history))\n",
    "\n",
    " \n",
    "         \n",
    "#the order of the self. parameters matters\n",
    "\n",
    "        self.state            = self.initial_state()\n",
    "        self.history          = []\n",
    "        self.history.append(self.state)\n",
    "        self.next_state()\n",
    "\n",
    "        \n",
    "    def history (self):\n",
    "        pass   # pass is a null statement -> nothing happens when executed. Code has to be written\n",
    "        \n",
    "    def initial_state(self):\n",
    "        self.initial_state = random.choices(self.states[0],self.states_probs)[0]     #, 'checkout'\n",
    "        return self.initial_state\n",
    "    \n",
    "    def __repr__(self):\n",
    "        return f'<Customer {self.name} for individual minute in the locations {self.history}>'\n",
    "\n",
    "    def next_state(self):\n",
    "        #state=self.state\n",
    "        #self.state = random.choices(['drinks', 'dairy', 'spices', 'fruit', 'checkout'])[0]\n",
    "        while self.state != 'checkout':\n",
    "            probs = self.transitions_dict[self.state]\n",
    "            self.state = random.choices(self.states[1], probs)[0] # ???why does ...dict.keys() not work\n",
    "            self.history.append(self.state)\n",
    "            if self.history[-1] == 'checkout':\n",
    "                break"
   ]
  }
 ],
 "metadata": {
  "kernelspec": {
   "display_name": "Python 3",
   "language": "python",
   "name": "python3"
  },
  "language_info": {
   "codemirror_mode": {
    "name": "ipython",
    "version": 3
   },
   "file_extension": ".py",
   "mimetype": "text/x-python",
   "name": "python",
   "nbconvert_exporter": "python",
   "pygments_lexer": "ipython3",
   "version": "3.8.8"
  }
 },
 "nbformat": 4,
 "nbformat_minor": 5
}
