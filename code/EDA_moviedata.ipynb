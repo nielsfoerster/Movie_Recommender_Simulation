{
 "cells": [
  {
   "cell_type": "code",
   "execution_count": 1,
   "id": "a193d24b-2e3e-4c5b-b525-3f2735eed28d",
   "metadata": {},
   "outputs": [],
   "source": [
    "import pandas as pd"
   ]
  },
  {
   "cell_type": "code",
   "execution_count": 2,
   "id": "49bf8e8b-63f7-45eb-a5bf-3c90e5b6083b",
   "metadata": {},
   "outputs": [],
   "source": [
    "# Load movie ratings data (small set)\n",
    "df_movies = pd.read_csv('ml-latest-small/movies.csv')\n",
    "df_ratings = pd.read_csv('ml-latest-small/ratings.csv')\n",
    "df_tags = pd.read_csv('ml-latest-small/tags.csv')\n",
    "df_links = pd.read_csv('ml-latest-small/links.csv')"
   ]
  },
  {
   "cell_type": "code",
   "execution_count": 3,
   "id": "7d48de5f-2b97-4d1d-b762-bb28ede78715",
   "metadata": {},
   "outputs": [],
   "source": [
    "data=pd.merge(df_ratings,df_movies,on='movieId')"
   ]
  },
  {
   "cell_type": "code",
   "execution_count": null,
   "id": "c8c1eb1f-5582-40e4-828b-324582dbbd75",
   "metadata": {},
   "outputs": [],
   "source": [
    "#Create columns with av. rating and frequency\n",
    "data['av_rating']=data.groupby(['movieId'])['rating'].transform('mean')\n",
    "data['no_of_ratings']=data.groupby(['movieId'])['rating'].transform('count')\n"
   ]
  },
  {
   "cell_type": "code",
   "execution_count": 4,
   "id": "f1a9ecdb-ede5-451a-a278-3eb7d74a346f",
   "metadata": {},
   "outputs": [],
   "source": [
    "data.to_csv('ml-latest-small/movie_data.csv', sep=',', encoding='utf-8')"
   ]
  },
  {
   "cell_type": "code",
   "execution_count": null,
   "id": "76d28fc9-0199-49a1-913e-b0c7f854bbab",
   "metadata": {},
   "outputs": [],
   "source": []
  }
 ],
 "metadata": {
  "kernelspec": {
   "display_name": "Python 3",
   "language": "python",
   "name": "python3"
  },
  "language_info": {
   "codemirror_mode": {
    "name": "ipython",
    "version": 3
   },
   "file_extension": ".py",
   "mimetype": "text/x-python",
   "name": "python",
   "nbconvert_exporter": "python",
   "pygments_lexer": "ipython3",
   "version": "3.8.8"
  }
 },
 "nbformat": 4,
 "nbformat_minor": 5
}
