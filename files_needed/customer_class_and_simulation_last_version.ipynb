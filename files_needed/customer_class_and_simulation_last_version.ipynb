{
 "cells": [
  {
   "cell_type": "code",
   "execution_count": 1,
   "metadata": {},
   "outputs": [
    {
     "name": "stdout",
     "output_type": "stream",
     "text": [
      "Preprocessing works!\n",
      "shift_col works!\n",
      "count_State_Trans works!\n",
      "entry_prob works!\n",
      "trans_fruits works!\n",
      "trans_spices works!\n",
      "trans_dairy works!\n",
      "trans_drinks works!\n"
     ]
    }
   ],
   "source": [
    "import pandas as pd\n",
    "from faker import Faker\n",
    "import random\n",
    "import Markov as mk"
   ]
  },
  {
   "cell_type": "code",
   "execution_count": null,
   "metadata": {},
   "outputs": [],
   "source": []
  },
  {
   "cell_type": "code",
   "execution_count": null,
   "metadata": {},
   "outputs": [],
   "source": []
  },
  {
   "cell_type": "code",
   "execution_count": 2,
   "metadata": {},
   "outputs": [],
   "source": [
    "# ! pip install faker"
   ]
  },
  {
   "cell_type": "code",
   "execution_count": 3,
   "metadata": {},
   "outputs": [],
   "source": [
    "\n",
    "# Two rows because first row can't have checkout location\n",
    "STATES_LOCAL = [['drinks', 'dairy', 'spices', 'fruits'],['drinks', 'dairy', 'spices', 'fruits','checkout']] \n",
    "\n",
    "STATES_PROB_LOCAL = [0.25, 0.25, 0.25, 0.25]\n",
    "\n",
    "TRANSITION_DICT_LOCAL = {'drinks':   [0.2, 0.2, 0.2, 0.2, 0.2],\n",
    "                                    'dairy':    [0.2, 0.2, 0.2, 0.2, 0.2],\n",
    "                                    'spices':   [0.2, 0.2, 0.2, 0.2, 0.2],\n",
    "                                    'fruits':    [0.2, 0.2, 0.2, 0.2, 0.2],\n",
    "                                    'checkout': [0,   0,   0,   0,   1]}\n",
    "class Customer:\n",
    "    \n",
    "\n",
    "    '''\n",
    "    class for a customer that moves through the market\n",
    "    '''\n",
    "    \n",
    "    \n",
    "    def __init__(self,states=STATES_LOCAL,states_probs=STATES_PROB_LOCAL,transitions_dict=TRANSITION_DICT_LOCAL):   #budget=100\n",
    "        self.name             = Faker().name()\n",
    "#         self.budget           = budget\n",
    "        self.states           = states\n",
    "        self.states_probs     = states_probs\n",
    "        self.transitions_dict = transitions_dict\n",
    "        #self.simulated_customer = dict(zip(self.name, self.history))\n",
    "\n",
    " \n",
    "         \n",
    "#the order of the self. parameters matters\n",
    "\n",
    "        self.state            = self.initial_state()\n",
    "        self.history          = []\n",
    "        self.history.append(self.state)\n",
    "        self.next_state()\n",
    "\n",
    "        \n",
    "    def history (self):\n",
    "        pass   # pass is a null statement -> nothing happens when executed. Code has to be written\n",
    "        \n",
    "    def initial_state(self):\n",
    "        self.initial_state = random.choices(self.states[0],self.states_probs)[0]     #, 'checkout'\n",
    "        return self.initial_state\n",
    "    \n",
    "    def __repr__(self):\n",
    "        return f'<Customer {self.name} for individual minute in the locations {self.history}>'\n",
    "\n",
    "    def next_state(self):\n",
    "        #state=self.state\n",
    "        #self.state = random.choices(['drinks', 'dairy', 'spices', 'fruit', 'checkout'])[0]\n",
    "        while self.state != 'checkout':\n",
    "            probs = self.transitions_dict[self.state]\n",
    "            self.state = random.choices(self.states[1], probs)[0] # ???why does ...dict.keys() not work\n",
    "            self.history.append(self.state)\n",
    "            if self.history[-1] == 'checkout':\n",
    "                break"
   ]
  },
  {
   "cell_type": "code",
   "execution_count": null,
   "metadata": {},
   "outputs": [],
   "source": []
  },
  {
   "cell_type": "code",
   "execution_count": 22,
   "metadata": {},
   "outputs": [],
   "source": [
    "customer1=Customer()"
   ]
  },
  {
   "cell_type": "code",
   "execution_count": 23,
   "metadata": {},
   "outputs": [
    {
     "data": {
      "text/plain": [
       "'Angela Smith'"
      ]
     },
     "execution_count": 23,
     "metadata": {},
     "output_type": "execute_result"
    }
   ],
   "source": [
    "customer1.name"
   ]
  },
  {
   "cell_type": "code",
   "execution_count": 24,
   "metadata": {
    "tags": []
   },
   "outputs": [
    {
     "data": {
      "text/plain": [
       "['fruits', 'drinks', 'drinks', 'fruits', 'spices', 'checkout']"
      ]
     },
     "execution_count": 24,
     "metadata": {},
     "output_type": "execute_result"
    }
   ],
   "source": [
    "customer1.history"
   ]
  },
  {
   "cell_type": "code",
   "execution_count": null,
   "metadata": {},
   "outputs": [],
   "source": []
  },
  {
   "cell_type": "code",
   "execution_count": null,
   "metadata": {},
   "outputs": [],
   "source": []
  },
  {
   "cell_type": "code",
   "execution_count": 26,
   "metadata": {},
   "outputs": [],
   "source": [
    "#to simulate several (num) customer behaviors and store and return them in a array as a list of lists\n",
    "def simulate_customers(states,states_probs,trans_probs,num):\n",
    "    simulated_customer =[]\n",
    "    customers =[]\n",
    "    names=[]\n",
    "    for i in range(num):\n",
    "        customer2=Customer(states,states_probs,trans_probs) # instead of None,None,None loaded data could be used\n",
    "        history=customer2.history\n",
    "        name=customer2.name\n",
    "        simulated_customer.append(history)  #dict(zip(customer.name, customer.history))\n",
    "        names.append(name)\n",
    "        customers.append(customer2)\n",
    "    # create DataFrame and set names as index\n",
    "    simulated_customer=pd.DataFrame(simulated_customer)\n",
    "    simulated_customer['names']=names\n",
    "    simulated_customer.set_index('names',inplace=True)\n",
    "    return simulated_customer,customers"
   ]
  },
  {
   "cell_type": "code",
   "execution_count": 27,
   "metadata": {},
   "outputs": [],
   "source": [
    "#Load entry_probs and transitional_probs from external file (Markov.py)\n",
    "entry_prob=mk.prob\n",
    "trans =mk.transition_probabilities"
   ]
  },
  {
   "cell_type": "code",
   "execution_count": 28,
   "metadata": {},
   "outputs": [],
   "source": [
    "# Run simulation based on external data with 20 simulations\n",
    "simulated_customer,customers =simulate_customers(STATES_LOCAL,entry_prob,trans,20)"
   ]
  },
  {
   "cell_type": "code",
   "execution_count": 29,
   "metadata": {},
   "outputs": [],
   "source": [
    "#Save data\n",
    "simulated_customer.to_csv('simulated_customer_test20.csv', sep=',', encoding='utf-8')"
   ]
  },
  {
   "cell_type": "code",
   "execution_count": null,
   "metadata": {},
   "outputs": [],
   "source": []
  },
  {
   "cell_type": "code",
   "execution_count": null,
   "metadata": {},
   "outputs": [],
   "source": []
  },
  {
   "cell_type": "code",
   "execution_count": null,
   "metadata": {},
   "outputs": [],
   "source": []
  },
  {
   "cell_type": "code",
   "execution_count": null,
   "metadata": {},
   "outputs": [],
   "source": []
  },
  {
   "cell_type": "code",
   "execution_count": null,
   "metadata": {},
   "outputs": [],
   "source": []
  },
  {
   "cell_type": "code",
   "execution_count": null,
   "metadata": {},
   "outputs": [],
   "source": []
  },
  {
   "cell_type": "code",
   "execution_count": null,
   "metadata": {},
   "outputs": [],
   "source": [
    "#this could also be loaded data\n",
    "states1 = [['Cola', 'Yoghurt', 'Pepper', 'Orange'],\n",
    "           ['Cola', 'Yoghurt', 'Pepper', 'Orange','checkout']]\n",
    "states_probs1 = [0.25, 0.25, 0.25, 0.25]\n",
    "transitions_dict1 = {'Cola':[0.2, 0.2, 0.2, 0.2, 0.2],\n",
    "                    'Yoghurt':[0.2, 0.2, 0.2, 0.2, 0.2],\n",
    "                    'Pepper':[0.2, 0.2, 0.2, 0.2, 0.2],\n",
    "                    'Orange': [0.2, 0.2, 0.2, 0.2, 0.2],\n",
    "                    'checkout': [0,   0,   0,   0,   1]}"
   ]
  },
  {
   "cell_type": "code",
   "execution_count": null,
   "metadata": {},
   "outputs": [],
   "source": []
  },
  {
   "cell_type": "code",
   "execution_count": null,
   "metadata": {},
   "outputs": [],
   "source": []
  },
  {
   "cell_type": "code",
   "execution_count": null,
   "metadata": {},
   "outputs": [],
   "source": [
    "#a=dict(zip(customer1.name, customer1.history))"
   ]
  },
  {
   "cell_type": "code",
   "execution_count": null,
   "metadata": {},
   "outputs": [],
   "source": []
  },
  {
   "cell_type": "code",
   "execution_count": null,
   "metadata": {},
   "outputs": [],
   "source": []
  },
  {
   "cell_type": "code",
   "execution_count": null,
   "metadata": {},
   "outputs": [],
   "source": []
  },
  {
   "cell_type": "code",
   "execution_count": null,
   "metadata": {},
   "outputs": [],
   "source": []
  },
  {
   "cell_type": "code",
   "execution_count": null,
   "metadata": {},
   "outputs": [],
   "source": [
    "# def next_state(self):\n",
    "#         #self.state = random.choices(['drinks', 'dairy', 'spices', 'fruit', 'checkout'])[0]\n",
    "#         while self.state != 'checkout':\n",
    "#             probs = transitions_dict[self.state]\n",
    "#             self.state = random.choices(states, probs) [0]\n",
    "#             history.append(self.state)\n",
    "#             if history[-1] == 'checkout':\n",
    "#                 break"
   ]
  },
  {
   "cell_type": "code",
   "execution_count": null,
   "metadata": {},
   "outputs": [],
   "source": []
  },
  {
   "cell_type": "code",
   "execution_count": null,
   "metadata": {},
   "outputs": [],
   "source": []
  }
 ],
 "metadata": {
  "kernelspec": {
   "display_name": "Python 3",
   "language": "python",
   "name": "python3"
  },
  "language_info": {
   "codemirror_mode": {
    "name": "ipython",
    "version": 3
   },
   "file_extension": ".py",
   "mimetype": "text/x-python",
   "name": "python",
   "nbconvert_exporter": "python",
   "pygments_lexer": "ipython3",
   "version": "3.8.8"
  }
 },
 "nbformat": 4,
 "nbformat_minor": 4
}
